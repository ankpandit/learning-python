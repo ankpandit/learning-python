{
 "cells": [
  {
   "cell_type": "code",
   "execution_count": null,
   "metadata": {},
   "outputs": [],
   "source": [
    "#1.Write a Python program to sum all the items in a list. \n",
    "a=[1,4,5,2,7]\n",
    "b=0\n",
    "for i in a:\n",
    "    b=b+i\n",
    "print(\"addition of all the elmenets is :\",b)"
   ]
  },
  {
   "cell_type": "code",
   "execution_count": 2,
   "metadata": {},
   "outputs": [
    {
     "name": "stdout",
     "output_type": "stream",
     "text": [
      "multiplication of all the elmenets is : 280\n"
     ]
    }
   ],
   "source": [
    "#2.Write a Python program to multiplies all the items in a list. \n",
    "a=[1,4,5,2,7]\n",
    "b=1\n",
    "for i in a:\n",
    "    b*=i\n",
    "print(\"multiplication of all the elmenets is :\",b)"
   ]
  },
  {
   "cell_type": "code",
   "execution_count": 3,
   "metadata": {},
   "outputs": [
    {
     "name": "stdout",
     "output_type": "stream",
     "text": [
      "largest element is: 7\n"
     ]
    }
   ],
   "source": [
    "#3.Write a Python program to get the largest number from a list\n",
    "a=[1,4,5,2,7]\n",
    "b=1\n",
    "for i in a:\n",
    "    if i>b:\n",
    "        b=i\n",
    "print(\"largest element is:\",b)\n"
   ]
  },
  {
   "cell_type": "code",
   "execution_count": 5,
   "metadata": {},
   "outputs": [
    {
     "name": "stdout",
     "output_type": "stream",
     "text": [
      "largest element is: 1\n"
     ]
    }
   ],
   "source": [
    "#4.Write a Python program to get the smallest number from list. \n",
    "a=[1,4,5,2,7]\n",
    "b=a[0]\n",
    "for i in a:\n",
    "    if i<b:\n",
    "        b=i\n",
    "print(\"smallest element is:\",b)"
   ]
  },
  {
   "cell_type": "code",
   "execution_count": 22,
   "metadata": {},
   "outputs": [
    {
     "name": "stdout",
     "output_type": "stream",
     "text": [
      "required output =  2\n"
     ]
    }
   ],
   "source": [
    "'''5.Write a Python program to count the number of strings where the string length is 2 or more and the first and last character are same from a given list of strings \n",
    "Sample List : ['abc', 'xyz', 'aba', '1221']. Expected Result : 2'''\n",
    "a=[\"aba\",\"xyx\",\"hd\",\"ssd\"]\n",
    "ct=0\n",
    "for i in range(0,len(a)):\n",
    "    b=a[i]\n",
    "    if len(b)>=3 and b[0]==b[-1]:\n",
    "        ct=ct+1\n",
    "print(\"required output = \",ct)\n",
    "                \n",
    "\n",
    "\n"
   ]
  },
  {
   "cell_type": "code",
   "execution_count": 25,
   "metadata": {},
   "outputs": [
    {
     "name": "stdout",
     "output_type": "stream",
     "text": [
      "[(1, 10), (2, 7), (4, 6), (2, 5), (2, 1)]\n"
     ]
    }
   ],
   "source": [
    "# 6. Write a Python program to get a list, sorted in increasing order by the last element in each tuple from a given list of non-empty tuples.  \n",
    "a= [(2, 7), (1, 10), (4, 6), (2, 5), (2, 1)]\n",
    "for i in range(0,len(a)):\n",
    "    for j in range(i,len(a)-1):\n",
    "        if a[j][-1]>a[j+1][-1]:\n",
    "            a[j],a[j+1]=a[j+1],a[j]\n",
    "print(a)"
   ]
  },
  {
   "cell_type": "code",
   "execution_count": 30,
   "metadata": {},
   "outputs": [
    {
     "name": "stdout",
     "output_type": "stream",
     "text": [
      "[1, 7, 4, 5, 2]\n"
     ]
    }
   ],
   "source": [
    "#7.Write a Python program to remove duplicates from a list.\n",
    "a=[1,1,7,4,5,2,2,2,7]\n",
    "b=[]\n",
    "for i in a:\n",
    "    if i not in b:\n",
    "        b.append(i)\n",
    "print(b)"
   ]
  },
  {
   "cell_type": "code",
   "execution_count": 38,
   "metadata": {},
   "outputs": [
    {
     "name": "stdout",
     "output_type": "stream",
     "text": [
      "enter list[]\n",
      "list is empty\n"
     ]
    }
   ],
   "source": [
    "#8.Write a Python program to check a list is empty or not. \n",
    "a=eval(input(\"enter list\"))\n",
    "if len(a)==0:\n",
    "    print(\"list is empty\")\n"
   ]
  },
  {
   "cell_type": "code",
   "execution_count": 41,
   "metadata": {},
   "outputs": [
    {
     "name": "stdout",
     "output_type": "stream",
     "text": [
      "enter size 4\n",
      "['ankit', 'mukul', 'abhay']\n"
     ]
    }
   ],
   "source": [
    "#10.Write a Python program to find the list of words that are longer than n from a given list of words.\n",
    "n=int(input(\"enter size \"))\n",
    "a=[\"ankit\",\"yash\",\"mukul\",\"abhay\",\"abc\",\"abcd\"]\n",
    "b=[]\n",
    "for i in a:\n",
    "    if len(i)>n:\n",
    "        b.append(i)\n",
    "print(b)"
   ]
  },
  {
   "cell_type": "code",
   "execution_count": 4,
   "metadata": {},
   "outputs": [
    {
     "name": "stdout",
     "output_type": "stream",
     "text": [
      "not common element\n"
     ]
    }
   ],
   "source": [
    "#11.Write a Python function that takes two lists and returns True if they have at least one common member.  \n",
    "a=[1,5,3,8,23,1]\n",
    "b=[2,4,6,7,9,12]\n",
    "for i in a:\n",
    "    if i in b:\n",
    "        print(\"true\")\n",
    "        break\n",
    "else:\n",
    "    print(\"not common element\")\n",
    "    \n"
   ]
  },
  {
   "cell_type": "code",
   "execution_count": 12,
   "metadata": {},
   "outputs": [
    {
     "name": "stdout",
     "output_type": "stream",
     "text": [
      "['Green', 'White', 'Black']\n"
     ]
    }
   ],
   "source": [
    "# 12. Write a Python program to print a specified list after removing the 0th, 4th and 5th elements\n",
    "a=['Red', 'Green', 'White', 'Black', 'Pink', 'Yellow']\n",
    "del a[0] \n",
    "del a[3]\n",
    "del a[3]\n",
    "print(a)"
   ]
  },
  {
   "cell_type": "code",
   "execution_count": null,
   "metadata": {},
   "outputs": [],
   "source": []
  }
 ],
 "metadata": {
  "kernelspec": {
   "display_name": "Python 3",
   "language": "python",
   "name": "python3"
  },
  "language_info": {
   "codemirror_mode": {
    "name": "ipython",
    "version": 3
   },
   "file_extension": ".py",
   "mimetype": "text/x-python",
   "name": "python",
   "nbconvert_exporter": "python",
   "pygments_lexer": "ipython3",
   "version": "3.8.5"
  }
 },
 "nbformat": 4,
 "nbformat_minor": 4
}
