{
 "cells": [
  {
   "cell_type": "code",
   "execution_count": 2,
   "metadata": {},
   "outputs": [
    {
     "name": "stdout",
     "output_type": "stream",
     "text": [
      "enter number5\n",
      "it is executed\n"
     ]
    }
   ],
   "source": [
    "# 1.Write a Python program  to demonstrate while loop with else statement.\n",
    "\n",
    "a=int(input(\"enter number\"))\n",
    "i=0\n",
    "while i<a:\n",
    "    if i==10:\n",
    "        print(\"else part will not execute\")\n",
    "        break\n",
    "    i=i+1\n",
    "else:\n",
    "    print(\"it is executed\")"
   ]
  },
  {
   "cell_type": "code",
   "execution_count": 7,
   "metadata": {},
   "outputs": [],
   "source": [
    "# 2.Write a Python program to print 1st 5 even numbers (use break statement).\n",
    "a=int(input(\"enter number\"))\n",
    "for i in range(1,a+1):\n",
    "    print(i*2)\n",
    "    if i==5:\n",
    "        break"
   ]
  },
  {
   "cell_type": "code",
   "execution_count": 6,
   "metadata": {},
   "outputs": [
    {
     "name": "stdout",
     "output_type": "stream",
     "text": [
      "2\n",
      "4\n",
      "6\n",
      "8\n"
     ]
    }
   ],
   "source": [
    "# Write a python program to print 1st 4 even numbers(use continue statment)?\n",
    "\n",
    "a=int(input(\"enter number\"))\n",
    "for i in range(1,a+1):\n",
    "    if :\n",
    "        print(i)\n",
    "        continue\n"
   ]
  },
  {
   "cell_type": "code",
   "execution_count": 5,
   "metadata": {},
   "outputs": [
    {
     "name": "stdout",
     "output_type": "stream",
     "text": [
      "18\n"
     ]
    }
   ],
   "source": [
    "# Q4. Write a python program to demonstrate pass statement?\n",
    "x = 18 \n",
    "if x>18:\n",
    "    pass\n",
    "    \n",
    "print(x)"
   ]
  },
  {
   "cell_type": "code",
   "execution_count": 10,
   "metadata": {},
   "outputs": [
    {
     "name": "stdout",
     "output_type": "stream",
     "text": [
      "Enter a string: yash\n",
      "The length of string is: 4\n"
     ]
    }
   ],
   "source": [
    "# Q5. Write a python proogram to calculate the length of a string?\n",
    "str1 = input(\"Enter a string: \")\n",
    "print(\"The length of string is:\", len(str1))"
   ]
  },
  {
   "cell_type": "code",
   "execution_count": 4,
   "metadata": {},
   "outputs": [
    {
     "name": "stdout",
     "output_type": "stream",
     "text": [
      "Enter a string: the string is immutable in python\n",
      "6\n"
     ]
    }
   ],
   "source": [
    "# Q6. Write a python program to calculate the number of characters (character frequency) in a string?\n",
    "a = input(\"Enter a string: \")\n",
    "count = 1\n",
    "for i in a:\n",
    "    if i==\" \":\n",
    "        count+=1\n",
    "    else:\n",
    "        continue\n",
    "\n",
    "print(count)"
   ]
  },
  {
   "cell_type": "code",
   "execution_count": 31,
   "metadata": {},
   "outputs": [
    {
     "name": "stdout",
     "output_type": "stream",
     "text": [
      "Enter a string: ASFASFA\n",
      "AS\n",
      "FA\n"
     ]
    }
   ],
   "source": [
    "# Q7. Write a python program to a string made of the first 2 and the last 2 cahrs from a given string. If the string is less than 2, return instead of empty string ??\n",
    "n = str(input(\"Enter a string: \"))\n",
    "if len(n)<2:\n",
    "    print(\"empty string please enter more than 2 characters\")\n",
    "print(n[0:2])\n",
    "print(n[len(n)-2:len(n)])\n",
    "    "
   ]
  },
  {
   "cell_type": "code",
   "execution_count": 18,
   "metadata": {},
   "outputs": [
    {
     "name": "stdout",
     "output_type": "stream",
     "text": [
      "Enter a string: \n",
      "ankit padnit\n",
      "The new string is: ankit p$dnit\n"
     ]
    }
   ],
   "source": [
    "# Q8. Write a python program to get a string from a given string where all occurrences of its char have been changed to '$', except the first char itself?\n",
    "print(\"Enter a string: \")\n",
    "str1=input()\n",
    "char1=str1[0]\n",
    "new_str=str1.replace(char1,\"$\")\n",
    "print (\"The new string is:\",char1+new_str[1:])"
   ]
  },
  {
   "cell_type": "code",
   "execution_count": 17,
   "metadata": {},
   "outputs": [
    {
     "name": "stdout",
     "output_type": "stream",
     "text": [
      "This is the first string. This is the second string.\n"
     ]
    }
   ],
   "source": [
    "# Q9. Write a python program to get a string from two given strings, seperated by a space and swap the first two characters of each string?\n",
    "str1 = \"This is the first string.\"\n",
    "str2 = \"This is the second string.\"\n",
    "str_new = str1 + \" \" + str2\n",
    "print(str_new)"
   ]
  },
  {
   "cell_type": "code",
   "execution_count": 15,
   "metadata": {},
   "outputs": [
    {
     "name": "stdout",
     "output_type": "stream",
     "text": [
      "Enter a string: ankit\n",
      "ankiting\n"
     ]
    }
   ],
   "source": [
    "# Q10. Write a python program to add 'ing' at teh end of a given string(length shoud be at least 3). If the given string already ends with 'ing' then add 'ly' instead. If the length of the given string is less then 3, leave it unchanged?\n",
    "str1 = input(\"Enter a string: \")\n",
    "str3 = \"ing\"\n",
    "if len(str1)<3:\n",
    "    print(str1)\n",
    "elif str1[-3:] == str3:\n",
    "    str2 = str1 + \"ly\"\n",
    "    print(str2)\n",
    "else:\n",
    "    str2 = str1 + \"ing\"\n",
    "    print(str2)\n"
   ]
  },
  {
   "cell_type": "code",
   "execution_count": null,
   "metadata": {},
   "outputs": [],
   "source": []
  }
 ],
 "metadata": {
  "kernelspec": {
   "display_name": "Python 3",
   "language": "python",
   "name": "python3"
  },
  "language_info": {
   "codemirror_mode": {
    "name": "ipython",
    "version": 3
   },
   "file_extension": ".py",
   "mimetype": "text/x-python",
   "name": "python",
   "nbconvert_exporter": "python",
   "pygments_lexer": "ipython3",
   "version": "3.8.5"
  }
 },
 "nbformat": 4,
 "nbformat_minor": 4
}
