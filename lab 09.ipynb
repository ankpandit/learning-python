{
 "cells": [
  {
   "cell_type": "code",
   "execution_count": 6,
   "metadata": {},
   "outputs": [
    {
     "name": "stdout",
     "output_type": "stream",
     "text": [
      "engineer\n",
      "manager\n"
     ]
    }
   ],
   "source": [
    "class employee:\n",
    "    class enginner:\n",
    "        def printdesignation():\n",
    "            return \"manager\"\n",
    "    class manager:\n",
    "            def printdesignation():\n",
    "                return \"engineer\"\n",
    "e1=employee()\n",
    "print(e1.manager.printdesignation())\n",
    "print(e1.enginner.printdesignation())\n"
   ]
  },
  {
   "cell_type": "code",
   "execution_count": 4,
   "metadata": {},
   "outputs": [
    {
     "name": "stdout",
     "output_type": "stream",
     "text": [
      "wolf\n",
      "<class '__main__.tiger'>\n"
     ]
    }
   ],
   "source": [
    "class animal:\n",
    "    def leg():\n",
    "        return \"wolf\"\n",
    "class tiger:\n",
    "    a=animal()\n",
    "    print(animal.leg())\n",
    "class dog:\n",
    "    def b():\n",
    "        leg(\"animal\")\n",
    "print(tiger)"
   ]
  },
  {
   "cell_type": "code",
   "execution_count": null,
   "metadata": {},
   "outputs": [],
   "source": []
  }
 ],
 "metadata": {
  "kernelspec": {
   "display_name": "Python 3",
   "language": "python",
   "name": "python3"
  },
  "language_info": {
   "codemirror_mode": {
    "name": "ipython",
    "version": 3
   },
   "file_extension": ".py",
   "mimetype": "text/x-python",
   "name": "python",
   "nbconvert_exporter": "python",
   "pygments_lexer": "ipython3",
   "version": "3.8.5"
  }
 },
 "nbformat": 4,
 "nbformat_minor": 4
}
